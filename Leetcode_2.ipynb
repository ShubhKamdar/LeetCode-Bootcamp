{
  "nbformat": 4,
  "nbformat_minor": 0,
  "metadata": {
    "colab": {
      "provenance": [],
      "authorship_tag": "ABX9TyPMyQDj/vq/EJkpXEltBZ/1",
      "include_colab_link": true
    },
    "kernelspec": {
      "name": "python3",
      "display_name": "Python 3"
    },
    "language_info": {
      "name": "python"
    }
  },
  "cells": [
    {
      "cell_type": "markdown",
      "metadata": {
        "id": "view-in-github",
        "colab_type": "text"
      },
      "source": [
        "<a href=\"https://colab.research.google.com/github/ShubhKamdar/LeetCode-Bootcamp/blob/main/Leetcode_2.ipynb\" target=\"_parent\"><img src=\"https://colab.research.google.com/assets/colab-badge.svg\" alt=\"Open In Colab\"/></a>"
      ]
    },
    {
      "cell_type": "markdown",
      "source": [
        "##Video Stitching\n",
        "https://leetcode.com/problems/video-stitching/description/\n"
      ],
      "metadata": {
        "id": "JUHU0QLJ9aMS"
      }
    },
    {
      "cell_type": "markdown",
      "source": [
        "To custom sort we need to put key=lambda and then the iterable and the condition of the iterable"
      ],
      "metadata": {
        "id": "uptOu1BWCPSU"
      }
    },
    {
      "cell_type": "markdown",
      "source": [
        "#8. String to Integer (atoi)\n",
        "https://leetcode.com/problems/string-to-integer-atoi/description/"
      ],
      "metadata": {
        "id": "MJC40DhzY4Hq"
      }
    },
    {
      "cell_type": "code",
      "source": [
        "def myAtoi(s: str) -> int:\n",
        "    s = s.lstrip()\n",
        "    sign = 1\n",
        "    result = 0\n",
        "    i = 0\n",
        "    if i < len(s) and (s[i] == '-' or s[i] == '+'):\n",
        "        sign = -1 if s[i] == '-' else 1\n",
        "        i += 1\n",
        "    while i < len(s) and s[i].isdigit():\n",
        "        digit = int(s[i])\n",
        "        if result > (2**31 - 1 - digit) // 10:\n",
        "            return 2**31 - 1 if sign == 1 else -2**31\n",
        "        result = result * 10 + digit\n",
        "        i += 1\n",
        "\n",
        "    return sign * result"
      ],
      "metadata": {
        "id": "Sop7No3hZcIb"
      },
      "execution_count": null,
      "outputs": []
    },
    {
      "cell_type": "markdown",
      "source": [
        "#424. Longest Repeating Character Replacement\n",
        "https://leetcode.com/problems/longest-repeating-character-replacement/description/"
      ],
      "metadata": {
        "id": "gq0iexE0ZyEY"
      }
    },
    {
      "cell_type": "code",
      "source": [
        "def characterReplacement(s: str, k: int) -> int:\n",
        "    max_length = 0\n",
        "    max_count = 0\n",
        "    char_count = {}\n",
        "    start = 0\n",
        "    for end in range(len(s)):\n",
        "        char_count[s[end]] = char_count.get(s[end], 0) + 1\n",
        "        max_count = max(max_count, char_count[s[end]])\n",
        "        if end - start + 1 - max_count > k:\n",
        "            char_count[s[start]] -= 1\n",
        "            start += 1\n",
        "        max_length = max(max_length, end - start + 1)\n",
        "    return max_length"
      ],
      "metadata": {
        "id": "hwuqfUemZw3R"
      },
      "execution_count": null,
      "outputs": []
    },
    {
      "cell_type": "markdown",
      "source": [
        "336. Palindrome Pairs\n",
        "https://leetcode.com/problems/palindrome-pairs/description/"
      ],
      "metadata": {
        "id": "Bk1Ny38zaMJs"
      }
    },
    {
      "cell_type": "code",
      "source": [],
      "metadata": {
        "id": "JPb_e18uaRtJ"
      },
      "execution_count": null,
      "outputs": []
    }
  ]
}