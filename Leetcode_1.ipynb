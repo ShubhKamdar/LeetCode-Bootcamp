{
  "nbformat": 4,
  "nbformat_minor": 0,
  "metadata": {
    "colab": {
      "provenance": []
    },
    "kernelspec": {
      "name": "python3",
      "display_name": "Python 3"
    },
    "language_info": {
      "name": "python"
    }
  },
  "cells": [
    {
      "cell_type": "markdown",
      "source": [
        "List Comprehension:- A Simplified way of using a for loop in lists so you dont have to write te wntire for something in something"
      ],
      "metadata": {
        "id": "qtv2PqtluUSQ"
      }
    },
    {
      "cell_type": "code",
      "source": [
        "squares=[]\n",
        "for i in range(10):\n",
        "  squares.append(i**2)\n",
        "squares"
      ],
      "metadata": {
        "colab": {
          "base_uri": "https://localhost:8080/"
        },
        "id": "6SF-D_mMuha-",
        "outputId": "1dda69c5-efc1-46e4-b714-617f504da48c"
      },
      "execution_count": 4,
      "outputs": [
        {
          "output_type": "execute_result",
          "data": {
            "text/plain": [
              "[0, 1, 4, 9, 16, 25, 36, 49, 64, 81]"
            ]
          },
          "metadata": {},
          "execution_count": 4
        }
      ]
    },
    {
      "cell_type": "markdown",
      "source": [],
      "metadata": {
        "id": "nUXJwwuLwO3V"
      }
    },
    {
      "cell_type": "markdown",
      "source": [
        "The above is an example of how a normal for loop is written, below is what list comprehension is"
      ],
      "metadata": {
        "id": "6MZCRBqFvFs4"
      }
    },
    {
      "cell_type": "code",
      "source": [
        "squares=[i**2 for i in range(10)]\n",
        "squares"
      ],
      "metadata": {
        "colab": {
          "base_uri": "https://localhost:8080/"
        },
        "id": "dnP7wL96vPCz",
        "outputId": "ab5596c2-336a-4dcd-a1bf-e8debf1e802f"
      },
      "execution_count": 6,
      "outputs": [
        {
          "output_type": "execute_result",
          "data": {
            "text/plain": [
              "[0, 1, 4, 9, 16, 25, 36, 49, 64, 81]"
            ]
          },
          "metadata": {},
          "execution_count": 6
        }
      ]
    },
    {
      "cell_type": "markdown",
      "source": [
        "#The compreshension is written as what you whant to do within the loop followed by the start of the loop. for eg- what you are wanting to do is square which is i**2 and then followed by it you are using the for loop"
      ],
      "metadata": {
        "id": "Gr7V12O1vazU"
      }
    },
    {
      "cell_type": "markdown",
      "source": [
        "##Leetcode-121-Best Time to Buy and Sell Stock\n",
        "https://leetcode.com/problems/best-time-to-buy-and-sell-stock/description/"
      ],
      "metadata": {
        "id": "7l53xwXH2QNO"
      }
    },
    {
      "cell_type": "markdown",
      "source": [
        "###Brute Force"
      ],
      "metadata": {
        "id": "-occE5oN2aNu"
      }
    },
    {
      "cell_type": "code",
      "source": [
        "prices = [7,1,5,3,6,4]"
      ],
      "metadata": {
        "id": "HAaqNSXOxzoy"
      },
      "execution_count": 40,
      "outputs": []
    },
    {
      "cell_type": "code",
      "source": [
        "maxprofit=0\n",
        "for i in range(len(prices)):\n",
        "  for j in range(i+1,len(prices)):\n",
        "    if prices[j] > prices[i]:\n",
        "      profit=prices[j]-prices[i]\n",
        "      if profit>maxprofit:\n",
        "        maxprofit=profit\n"
      ],
      "metadata": {
        "id": "ToUDzdlW17q9"
      },
      "execution_count": 41,
      "outputs": []
    },
    {
      "cell_type": "code",
      "source": [
        "maxprofit"
      ],
      "metadata": {
        "colab": {
          "base_uri": "https://localhost:8080/"
        },
        "id": "0xrYdeZA1rMf",
        "outputId": "e85f79f2-dc4d-4320-adf5-1e3b6bf53184"
      },
      "execution_count": 42,
      "outputs": [
        {
          "output_type": "execute_result",
          "data": {
            "text/plain": [
              "5"
            ]
          },
          "metadata": {},
          "execution_count": 42
        }
      ]
    },
    {
      "cell_type": "markdown",
      "source": [
        "##Smart Method-1"
      ],
      "metadata": {
        "id": "lzlUoTbs21Sd"
      }
    },
    {
      "cell_type": "code",
      "source": [
        "prices =[1,2]"
      ],
      "metadata": {
        "id": "Uko5REJi24qa"
      },
      "execution_count": 50,
      "outputs": []
    },
    {
      "cell_type": "code",
      "source": [
        "profit=0\n",
        "maximum_profit=0\n",
        "minimum = float('inf')\n",
        "for i in range(len(prices)-1):\n",
        "  if prices[i]<prices[i+1]:\n",
        "    if prices[i]<minimum:\n",
        "      minimum=prices[i]\n",
        "    profit= prices[i+1]-minimum\n",
        "  else:\n",
        "    profit= prices[i]-minimum\n",
        "  if maximum_profit<profit:\n",
        "    maximum_profit=profit\n",
        "return maximum_profit"
      ],
      "metadata": {
        "colab": {
          "base_uri": "https://localhost:8080/"
        },
        "id": "rZgrXVuo2-UI",
        "outputId": "d44b2f95-5e44-4012-ead7-b99488974be2"
      },
      "execution_count": 55,
      "outputs": [
        {
          "output_type": "execute_result",
          "data": {
            "text/plain": [
              "5"
            ]
          },
          "metadata": {},
          "execution_count": 55
        }
      ]
    },
    {
      "cell_type": "markdown",
      "source": [
        "##Smart Method-2 - Solution"
      ],
      "metadata": {
        "id": "DbD5uLmF9h7x"
      }
    },
    {
      "cell_type": "code",
      "source": [
        "prices = [7,1,5,3,6,4]"
      ],
      "metadata": {
        "id": "xus0P0Wl9l7X"
      },
      "execution_count": 54,
      "outputs": []
    },
    {
      "cell_type": "code",
      "source": [
        "maxprofit=0\n",
        "minprice=float(\"inf\")\n",
        "for price in prices:\n",
        "  if price<minprice:\n",
        "    minprice=price\n",
        "  elif price-minprice>maxprofit:\n",
        "    maxprofit=price-minprice\n",
        "maxprofit"
      ],
      "metadata": {
        "colab": {
          "base_uri": "https://localhost:8080/"
        },
        "id": "FWAC0pP39mqz",
        "outputId": "fd150542-fbbd-4fc9-a915-30ccc6d5ea27"
      },
      "execution_count": 52,
      "outputs": [
        {
          "output_type": "execute_result",
          "data": {
            "text/plain": [
              "1"
            ]
          },
          "metadata": {},
          "execution_count": 52
        }
      ]
    },
    {
      "cell_type": "markdown",
      "source": [
        "##Leetcode-75-Sort Colors\n",
        "https://leetcode.com/problems/sort-colors/description/"
      ],
      "metadata": {
        "id": "0lhm6nfmHMh0"
      }
    },
    {
      "cell_type": "code",
      "source": [
        "nums = [2,0,2,1,1,0]"
      ],
      "metadata": {
        "id": "r2559zKUHyHx"
      },
      "execution_count": 81,
      "outputs": []
    },
    {
      "cell_type": "code",
      "source": [
        "ones=0\n",
        "twos=0\n",
        "num=[]\n",
        "for i in nums:\n",
        "  if i == 0:\n",
        "    num.append(i)\n",
        "  elif i == 1:\n",
        "    ones=ones+1\n",
        "  else:\n",
        "    twos=twos+1\n",
        "num=num + ([1]*ones)\n",
        "num=num + ([2]*twos)\n",
        "nums=num\n",
        "nums"
      ],
      "metadata": {
        "colab": {
          "base_uri": "https://localhost:8080/"
        },
        "id": "EDaVPax7H1lJ",
        "outputId": "39f4ceba-a637-415d-920e-e633f4759451"
      },
      "execution_count": 82,
      "outputs": [
        {
          "output_type": "execute_result",
          "data": {
            "text/plain": [
              "[0, 0, 1, 1, 2, 2]"
            ]
          },
          "metadata": {},
          "execution_count": 82
        }
      ]
    },
    {
      "cell_type": "markdown",
      "source": [
        "####Solving wth conditions - Only smart way right now."
      ],
      "metadata": {
        "id": "WM9moUaycKxP"
      }
    },
    {
      "cell_type": "code",
      "source": [
        "nums = [2,0,2,1,1,0]"
      ],
      "metadata": {
        "id": "GQSTtM09cOuq"
      },
      "execution_count": 89,
      "outputs": []
    },
    {
      "cell_type": "code",
      "source": [
        "first,centre,last=0,0,len(nums)-1\n",
        "while centre<=last:\n",
        "    if nums[centre] == 0:\n",
        "        if nums[first] !=0:\n",
        "            nums[first],nums[centre]=nums[centre],nums[first]\n",
        "        first+=1\n",
        "        centre+=1\n",
        "    elif nums[centre] == 1:\n",
        "        centre+=1\n",
        "    else:\n",
        "        if nums[last] !=2:\n",
        "            nums[last],nums[centre]=nums[centre],nums[last]\n",
        "        last-=1\n",
        "nums"
      ],
      "metadata": {
        "colab": {
          "base_uri": "https://localhost:8080/"
        },
        "id": "34z68IDtcQbi",
        "outputId": "d27a750b-f645-4e2d-c0dc-0e4b4e725691"
      },
      "execution_count": 90,
      "outputs": [
        {
          "output_type": "execute_result",
          "data": {
            "text/plain": [
              "[0, 0, 1, 1, 2, 2]"
            ]
          },
          "metadata": {},
          "execution_count": 90
        }
      ]
    },
    {
      "cell_type": "markdown",
      "source": [
        "##Leetcode-239-Sliding Window Maximum\n",
        "https://leetcode.com/problems/sliding-window-maximum/description/"
      ],
      "metadata": {
        "id": "kAe7TcMBqohI"
      }
    },
    {
      "cell_type": "markdown",
      "source": [
        "###Brute Force"
      ],
      "metadata": {
        "id": "I5Xp-UUx3sE9"
      }
    },
    {
      "cell_type": "code",
      "source": [
        "nums = [1,3,-1,-3,5,3,6,7]\n",
        "k=3"
      ],
      "metadata": {
        "id": "0hi5zqbAsJTK"
      },
      "execution_count": 111,
      "outputs": []
    },
    {
      "cell_type": "code",
      "source": [
        "z=[]\n",
        "for i in range(len(nums)-k+1):\n",
        "  maxnumber=float('-inf')\n",
        "  for a in range(k):\n",
        "    if (i+a)<len(nums) :\n",
        "      if nums[i+a]>maxnumber:\n",
        "        maxnumber=nums[i+a]\n",
        "  z.append(maxnumber)\n",
        "z"
      ],
      "metadata": {
        "colab": {
          "base_uri": "https://localhost:8080/"
        },
        "id": "wqbMiZVrsOKS",
        "outputId": "b9b1985d-2bc8-4f87-853e-a6eb33125656"
      },
      "execution_count": 120,
      "outputs": [
        {
          "output_type": "execute_result",
          "data": {
            "text/plain": [
              "[3, 3, 5, 5, 6, 7]"
            ]
          },
          "metadata": {},
          "execution_count": 120
        }
      ]
    },
    {
      "cell_type": "code",
      "source": [],
      "metadata": {
        "id": "okRbdKO8dHqJ"
      },
      "execution_count": null,
      "outputs": []
    },
    {
      "cell_type": "markdown",
      "source": [
        "##Leetcode-217- Contains Duplicate\n",
        "https://leetcode.com/problems/contains-duplicate/"
      ],
      "metadata": {
        "id": "SLQ1Zmr68ElN"
      }
    },
    {
      "cell_type": "code",
      "source": [
        "class Solution:\n",
        "    def containsDuplicate(self, nums: List[int]) -> bool:\n",
        "        nums.sort()\n",
        "        for i in range(len(nums)-1):\n",
        "            if nums[i]==nums[i+1]:\n",
        "                return True\n",
        "        return False"
      ],
      "metadata": {
        "id": "Z4HPvK5G8LzP"
      },
      "execution_count": 121,
      "outputs": []
    },
    {
      "cell_type": "markdown",
      "source": [
        "##Leetcode-11- Container With Most Water\n",
        "https://leetcode.com/problems/container-with-most-water/description/"
      ],
      "metadata": {
        "id": "8n-1pM9BcuoH"
      }
    },
    {
      "cell_type": "code",
      "source": [
        "n = len(height)\n",
        "left, right = 0, n - 1\n",
        "max_area = 0\n",
        "while left < right:\n",
        "    current_area = min(height[left], height[right]) * (right - left)\n",
        "    max_area = max(max_area, current_area)\n",
        "    if height[left] < height[right]:\n",
        "        left += 1\n",
        "    else:\n",
        "        right -= 1\n",
        "return max_area"
      ],
      "metadata": {
        "id": "-XCd4Lmwcu2l"
      },
      "execution_count": null,
      "outputs": []
    },
    {
      "cell_type": "markdown",
      "source": [
        "##Leetcode-1024. Video Stitching\n",
        "https://leetcode.com/problems/video-stitching/description/"
      ],
      "metadata": {
        "id": "TmEkobzUdP1S"
      }
    }
  ]
}